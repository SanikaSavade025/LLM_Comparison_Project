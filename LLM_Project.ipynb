{
  "nbformat": 4,
  "nbformat_minor": 0,
  "metadata": {
    "colab": {
      "provenance": []
    },
    "kernelspec": {
      "name": "python3",
      "display_name": "Python 3"
    },
    "language_info": {
      "name": "python"
    }
  },
  "cells": [
    {
      "cell_type": "code",
      "execution_count": 3,
      "metadata": {
        "id": "YueggqTiuQo9"
      },
      "outputs": [],
      "source": [
        "import pandas as pd\n",
        "import numpy as np\n",
        "from google.colab import files\n",
        "from sklearn.model_selection import cross_val_score, KFold\n",
        "from sklearn.preprocessing import StandardScaler, PolynomialFeatures, MultiLabelBinarizer\n",
        "from sklearn.pipeline import Pipeline\n",
        "from sklearn.tree import DecisionTreeClassifier, DecisionTreeRegressor\n",
        "from sklearn.ensemble import (\n",
        "    RandomForestClassifier,\n",
        "    RandomForestRegressor,\n",
        "    AdaBoostClassifier,\n",
        "    GradientBoostingClassifier,\n",
        "    VotingClassifier,\n",
        "    StackingClassifier\n",
        ")\n",
        "from sklearn.svm import SVC, SVR\n",
        "from sklearn.linear_model import (\n",
        "    LogisticRegression,\n",
        "    LinearRegression,\n",
        "    Lasso,\n",
        "    Ridge\n",
        ")\n",
        "from sklearn.multiclass import OneVsRestClassifier\n",
        "import matplotlib.pyplot as plt\n",
        "import seaborn as sns"
      ]
    },
    {
      "cell_type": "code",
      "source": [
        "df = pd.read_csv(\"/content/llm_comparison_dataset.csv\")"
      ],
      "metadata": {
        "id": "6lUVZ46N1enF"
      },
      "execution_count": 4,
      "outputs": []
    },
    {
      "cell_type": "code",
      "source": [
        "print(df.columns.tolist())"
      ],
      "metadata": {
        "colab": {
          "base_uri": "https://localhost:8080/"
        },
        "id": "Xx5_1oGOCRXH",
        "outputId": "e61f5d50-7fd8-44b8-b241-bf3dae2e220b"
      },
      "execution_count": 5,
      "outputs": [
        {
          "output_type": "stream",
          "name": "stdout",
          "text": [
            "['Model', 'Provider', 'Context Window', 'Speed (tokens/sec)', 'Latency (sec)', 'Benchmark (MMLU)', 'Benchmark (Chatbot Arena)', 'Open-Source', 'Price / Million Tokens', 'Training Dataset Size', 'Compute Power', 'Energy Efficiency', 'Quality Rating', 'Speed Rating', 'Price Rating']\n"
          ]
        }
      ]
    },
    {
      "cell_type": "code",
      "source": [
        "TARGET = 'Model'"
      ],
      "metadata": {
        "id": "0GpTm8cO2NwR"
      },
      "execution_count": 6,
      "outputs": []
    },
    {
      "cell_type": "code",
      "source": [
        "is_reg = pd.api.types.is_numeric_dtype(df[TARGET])  # Reference 'Model' as a string\n",
        "print(f\"→ {'Regression' if is_reg else 'Classification'} problem detected.\")"
      ],
      "metadata": {
        "colab": {
          "base_uri": "https://localhost:8080/"
        },
        "id": "vD5DfHELB8K_",
        "outputId": "a3198f6f-e993-4c62-b5a8-542c767fb542"
      },
      "execution_count": 7,
      "outputs": [
        {
          "output_type": "stream",
          "name": "stdout",
          "text": [
            "→ Classification problem detected.\n"
          ]
        }
      ]
    },
    {
      "cell_type": "code",
      "source": [
        "ALL_FEATURES = [c for c in df.columns if c != TARGET]\n",
        "SPEED_QUALITY_PRICE = [c for c in ['Speed', 'Quality', 'Price'] if c in df.columns]\n",
        "feature_groups = {\n",
        "    'All Features': ALL_FEATURES,\n",
        "    'Speed+Quality+Price': SPEED_QUALITY_PRICE,\n",
        "}"
      ],
      "metadata": {
        "id": "dc4ns6hxDyit"
      },
      "execution_count": 8,
      "outputs": []
    },
    {
      "cell_type": "code",
      "source": [
        "X_raw = df.drop(columns=[TARGET])\n",
        "y_raw = df[TARGET]"
      ],
      "metadata": {
        "id": "bHEX6wS4C4I_"
      },
      "execution_count": 9,
      "outputs": []
    },
    {
      "cell_type": "code",
      "source": [
        "if y_raw.dtype == object and y_raw.str.contains(',').any():\n",
        "    mlb = MultiLabelBinarizer()\n",
        "    y = mlb.fit_transform(y_raw.str.split(','))\n",
        "    is_multilabel = True\n",
        "else:\n",
        "    y = y_raw\n",
        "    is_multilabel = False"
      ],
      "metadata": {
        "id": "BpRRiAh_C7T0"
      },
      "execution_count": 10,
      "outputs": []
    },
    {
      "cell_type": "code",
      "source": [
        "X = pd.get_dummies(X_raw, drop_first=True)"
      ],
      "metadata": {
        "id": "8y7IHH80DAEx"
      },
      "execution_count": 11,
      "outputs": []
    },
    {
      "cell_type": "code",
      "source": [
        "if not is_reg:\n",
        "    # Base classifiers\n",
        "    base_models = {\n",
        "        'svc': SVC(probability=True),\n",
        "        'dt': DecisionTreeClassifier(random_state=42),\n",
        "        'rf': RandomForestClassifier(n_estimators=100, random_state=42),\n",
        "        'lr': LogisticRegression(max_iter=1000),\n",
        "    }\n",
        "    # Ensembles\n",
        "    models = {\n",
        "        **{name.upper(): OneVsRestClassifier(clf) if is_multilabel else clf\n",
        "           for name, clf in base_models.items()},\n",
        "        'Voting (hard)': VotingClassifier(\n",
        "            estimators=[(n, clf) for n, clf in base_models.items()], voting='hard'),\n",
        "        'Voting (soft)': VotingClassifier(\n",
        "            estimators=[(n, clf) for n, clf in base_models.items()], voting='soft'),\n",
        "        'AdaBoost': AdaBoostClassifier(\n",
        "            estimator=DecisionTreeClassifier(max_depth=1), n_estimators=50, random_state=42),\n",
        "        'GradientBoost': GradientBoostingClassifier(n_estimators=100, random_state=42),\n",
        "        'Stacking': StackingClassifier(\n",
        "            estimators=[(n, clf) for n, clf in base_models.items()],\n",
        "            final_estimator=LogisticRegression(), cv=5),\n",
        "    }\n",
        "    scoring = 'accuracy'\n",
        "else:\n",
        "    models = {\n",
        "        'Linear Reg': LinearRegression(),\n",
        "        'Polynomial Reg': Pipeline([\n",
        "            ('poly', PolynomialFeatures(degree=2, include_bias=False)),\n",
        "            ('lr', LinearRegression())\n",
        "        ]),\n",
        "        'SVR': SVR(),\n",
        "        'Lasso': Lasso(alpha=1.0, max_iter=10000),\n",
        "        'Ridge': Ridge(alpha=1.0),\n",
        "        'DT Regressor': DecisionTreeRegressor(random_state=42),\n",
        "        'RF Regressor': RandomForestRegressor(n_estimators=100, random_state=42),\n",
        "        'AdaBoost Regr': AdaBoostClassifier(),  # Correct AdaBoost regression (no base_estimator)\n",
        "        'GradientBoost Regr': GradientBoostingClassifier(),\n",
        "        'Stacking Regr': StackingClassifier(\n",
        "            estimators=[('lr', LinearRegression()), ('dt', DecisionTreeRegressor(random_state=42))],\n",
        "            final_estimator=Ridge(), cv=5),\n",
        "    }\n",
        "    scoring = 'neg_root_mean_squared_error'"
      ],
      "metadata": {
        "id": "M-bPwEQnDGNM"
      },
      "execution_count": 12,
      "outputs": []
    },
    {
      "cell_type": "code",
      "source": [
        "!pip install pandas scikit-learn matplotlib seaborn"
      ],
      "metadata": {
        "colab": {
          "base_uri": "https://localhost:8080/"
        },
        "id": "vJxTMVwPESQz",
        "outputId": "f1d08e6c-5ff0-4d4c-c091-39bbde767855"
      },
      "execution_count": 13,
      "outputs": [
        {
          "output_type": "stream",
          "name": "stdout",
          "text": [
            "Requirement already satisfied: pandas in /usr/local/lib/python3.11/dist-packages (2.2.2)\n",
            "Requirement already satisfied: scikit-learn in /usr/local/lib/python3.11/dist-packages (1.6.1)\n",
            "Requirement already satisfied: matplotlib in /usr/local/lib/python3.11/dist-packages (3.10.0)\n",
            "Requirement already satisfied: seaborn in /usr/local/lib/python3.11/dist-packages (0.13.2)\n",
            "Requirement already satisfied: numpy>=1.23.2 in /usr/local/lib/python3.11/dist-packages (from pandas) (2.0.2)\n",
            "Requirement already satisfied: python-dateutil>=2.8.2 in /usr/local/lib/python3.11/dist-packages (from pandas) (2.9.0.post0)\n",
            "Requirement already satisfied: pytz>=2020.1 in /usr/local/lib/python3.11/dist-packages (from pandas) (2025.2)\n",
            "Requirement already satisfied: tzdata>=2022.7 in /usr/local/lib/python3.11/dist-packages (from pandas) (2025.2)\n",
            "Requirement already satisfied: scipy>=1.6.0 in /usr/local/lib/python3.11/dist-packages (from scikit-learn) (1.15.3)\n",
            "Requirement already satisfied: joblib>=1.2.0 in /usr/local/lib/python3.11/dist-packages (from scikit-learn) (1.5.1)\n",
            "Requirement already satisfied: threadpoolctl>=3.1.0 in /usr/local/lib/python3.11/dist-packages (from scikit-learn) (3.6.0)\n",
            "Requirement already satisfied: contourpy>=1.0.1 in /usr/local/lib/python3.11/dist-packages (from matplotlib) (1.3.2)\n",
            "Requirement already satisfied: cycler>=0.10 in /usr/local/lib/python3.11/dist-packages (from matplotlib) (0.12.1)\n",
            "Requirement already satisfied: fonttools>=4.22.0 in /usr/local/lib/python3.11/dist-packages (from matplotlib) (4.58.4)\n",
            "Requirement already satisfied: kiwisolver>=1.3.1 in /usr/local/lib/python3.11/dist-packages (from matplotlib) (1.4.8)\n",
            "Requirement already satisfied: packaging>=20.0 in /usr/local/lib/python3.11/dist-packages (from matplotlib) (24.2)\n",
            "Requirement already satisfied: pillow>=8 in /usr/local/lib/python3.11/dist-packages (from matplotlib) (11.2.1)\n",
            "Requirement already satisfied: pyparsing>=2.3.1 in /usr/local/lib/python3.11/dist-packages (from matplotlib) (3.2.3)\n",
            "Requirement already satisfied: six>=1.5 in /usr/local/lib/python3.11/dist-packages (from python-dateutil>=2.8.2->pandas) (1.17.0)\n"
          ]
        }
      ]
    },
    {
      "cell_type": "code",
      "source": [
        "from sklearn.model_selection import train_test_split\n",
        "from sklearn.metrics import accuracy_score, mean_squared_error\n",
        "import numpy as np\n",
        "\n",
        "# 9. Train-test split and accuracy calculation\n",
        "results = []\n",
        "\n",
        "# Split data into train and test sets\n",
        "X_train, X_test, y_train, y_test = train_test_split(X, y, test_size=0.2, random_state=42)\n",
        "\n",
        "for fg_name, feats in feature_groups.items():\n",
        "    feats = [f for f in feats if f in X.columns]\n",
        "\n",
        "    # Check if the feature group is empty\n",
        "    if not feats:\n",
        "        print(f\"Feature group {fg_name} has no valid features in the dataset.\")\n",
        "        continue\n",
        "\n",
        "    X_train_fg = X_train[feats]\n",
        "    X_test_fg = X_test[feats]\n",
        "\n",
        "    # Check for missing or invalid values in X_train_fg and X_test_fg\n",
        "    if X_train_fg.isnull().any().any() or X_test_fg.isnull().any().any():\n",
        "        print(f\"Warning: Missing values found in feature group {fg_name}. Imputing...\")\n",
        "        X_train_fg = X_train_fg.fillna(X_train_fg.mean())\n",
        "        X_test_fg = X_test_fg.fillna(X_test_fg.mean())\n",
        "\n",
        "    for name, model in models.items():\n",
        "        try:\n",
        "            pipe = Pipeline([\n",
        "                ('scaler', StandardScaler()),\n",
        "                ('model', model)\n",
        "            ])\n",
        "            pipe.fit(X_train_fg, y_train)\n",
        "            y_pred = pipe.predict(X_test_fg)\n",
        "\n",
        "            # If classification, calculate accuracy as percentage\n",
        "            if not is_reg:\n",
        "                accuracy = accuracy_score(y_test, y_pred) * 100  # Accuracy as percentage\n",
        "                results.append({\n",
        "                    'Feature Group': fg_name,\n",
        "                    'Model': name,\n",
        "                    'Accuracy (%)': accuracy\n",
        "                })\n",
        "            else:\n",
        "                # For regression, calculate RMSE as well\n",
        "                mse = mean_squared_error(y_test, y_pred)\n",
        "                rmse = np.sqrt(mse)\n",
        "                results.append({\n",
        "                    'Feature Group': fg_name,\n",
        "                    'Model': name,\n",
        "                    'RMSE': rmse\n",
        "                })\n",
        "\n",
        "        except ValueError as e:\n",
        "            print(f\"Error with model {name} for feature group {fg_name}: {e}\")\n",
        "\n",
        "results_df = pd.DataFrame(results)\n",
        "\n",
        "# 10. Display\n",
        "print(\"\\n=== Accuracy Results ===\")\n",
        "display(results_df.sort_values(['Feature Group', 'Accuracy (%)'], ascending=[True, False]))\n",
        "\n",
        "# 11. Plot\n",
        "plt.figure(figsize=(14, 6))\n",
        "sns.barplot(data=results_df, x='Feature Group', y='Accuracy (%)', hue='Model')\n",
        "plt.ylabel('Accuracy (%)' if not is_reg else 'RMSE')\n",
        "plt.title('Model Accuracy Comparison')\n",
        "plt.xlabel('')\n",
        "plt.xticks(rotation=0)\n",
        "plt.legend(bbox_to_anchor=(1.05, 1), loc='upper left')\n",
        "plt.tight_layout()\n",
        "plt.show()\n"
      ],
      "metadata": {
        "colab": {
          "base_uri": "https://localhost:8080/",
          "height": 1000
        },
        "id": "jfDTOONeDnXY",
        "outputId": "b4e583b8-9ad0-4a8b-d693-fe00277da35b"
      },
      "execution_count": 14,
      "outputs": [
        {
          "output_type": "stream",
          "name": "stderr",
          "text": [
            "/usr/local/lib/python3.11/dist-packages/sklearn/model_selection/_split.py:805: UserWarning: The least populated class in y has only 1 members, which is less than n_splits=5.\n",
            "  warnings.warn(\n",
            "/usr/local/lib/python3.11/dist-packages/sklearn/model_selection/_validation.py:1380: RuntimeWarning: Number of classes in training fold (62) does not match total number of classes (64). Results may not be appropriate for your use case. To fix this, use a cross-validation technique resulting in properly stratified folds\n",
            "  warnings.warn(\n",
            "/usr/local/lib/python3.11/dist-packages/sklearn/model_selection/_validation.py:1380: RuntimeWarning: Number of classes in training fold (61) does not match total number of classes (64). Results may not be appropriate for your use case. To fix this, use a cross-validation technique resulting in properly stratified folds\n",
            "  warnings.warn(\n",
            "/usr/local/lib/python3.11/dist-packages/sklearn/model_selection/_validation.py:1380: RuntimeWarning: Number of classes in training fold (61) does not match total number of classes (64). Results may not be appropriate for your use case. To fix this, use a cross-validation technique resulting in properly stratified folds\n",
            "  warnings.warn(\n",
            "/usr/local/lib/python3.11/dist-packages/sklearn/model_selection/_validation.py:1380: RuntimeWarning: Number of classes in training fold (61) does not match total number of classes (64). Results may not be appropriate for your use case. To fix this, use a cross-validation technique resulting in properly stratified folds\n",
            "  warnings.warn(\n",
            "/usr/local/lib/python3.11/dist-packages/sklearn/model_selection/_validation.py:1380: RuntimeWarning: Number of classes in training fold (59) does not match total number of classes (64). Results may not be appropriate for your use case. To fix this, use a cross-validation technique resulting in properly stratified folds\n",
            "  warnings.warn(\n",
            "/usr/local/lib/python3.11/dist-packages/sklearn/model_selection/_split.py:805: UserWarning: The least populated class in y has only 1 members, which is less than n_splits=5.\n",
            "  warnings.warn(\n",
            "/usr/local/lib/python3.11/dist-packages/sklearn/model_selection/_validation.py:1380: RuntimeWarning: Number of classes in training fold (62) does not match total number of classes (64). Results may not be appropriate for your use case. To fix this, use a cross-validation technique resulting in properly stratified folds\n",
            "  warnings.warn(\n",
            "/usr/local/lib/python3.11/dist-packages/sklearn/model_selection/_validation.py:1380: RuntimeWarning: Number of classes in training fold (61) does not match total number of classes (64). Results may not be appropriate for your use case. To fix this, use a cross-validation technique resulting in properly stratified folds\n",
            "  warnings.warn(\n",
            "/usr/local/lib/python3.11/dist-packages/sklearn/model_selection/_validation.py:1380: RuntimeWarning: Number of classes in training fold (61) does not match total number of classes (64). Results may not be appropriate for your use case. To fix this, use a cross-validation technique resulting in properly stratified folds\n",
            "  warnings.warn(\n",
            "/usr/local/lib/python3.11/dist-packages/sklearn/model_selection/_validation.py:1380: RuntimeWarning: Number of classes in training fold (61) does not match total number of classes (64). Results may not be appropriate for your use case. To fix this, use a cross-validation technique resulting in properly stratified folds\n",
            "  warnings.warn(\n",
            "/usr/local/lib/python3.11/dist-packages/sklearn/model_selection/_validation.py:1380: RuntimeWarning: Number of classes in training fold (59) does not match total number of classes (64). Results may not be appropriate for your use case. To fix this, use a cross-validation technique resulting in properly stratified folds\n",
            "  warnings.warn(\n",
            "/usr/local/lib/python3.11/dist-packages/sklearn/model_selection/_split.py:805: UserWarning: The least populated class in y has only 1 members, which is less than n_splits=5.\n",
            "  warnings.warn(\n",
            "/usr/local/lib/python3.11/dist-packages/sklearn/model_selection/_validation.py:1380: RuntimeWarning: Number of classes in training fold (62) does not match total number of classes (64). Results may not be appropriate for your use case. To fix this, use a cross-validation technique resulting in properly stratified folds\n",
            "  warnings.warn(\n",
            "/usr/local/lib/python3.11/dist-packages/sklearn/model_selection/_validation.py:1380: RuntimeWarning: Number of classes in training fold (61) does not match total number of classes (64). Results may not be appropriate for your use case. To fix this, use a cross-validation technique resulting in properly stratified folds\n",
            "  warnings.warn(\n",
            "/usr/local/lib/python3.11/dist-packages/sklearn/model_selection/_validation.py:1380: RuntimeWarning: Number of classes in training fold (61) does not match total number of classes (64). Results may not be appropriate for your use case. To fix this, use a cross-validation technique resulting in properly stratified folds\n",
            "  warnings.warn(\n",
            "/usr/local/lib/python3.11/dist-packages/sklearn/model_selection/_validation.py:1380: RuntimeWarning: Number of classes in training fold (61) does not match total number of classes (64). Results may not be appropriate for your use case. To fix this, use a cross-validation technique resulting in properly stratified folds\n",
            "  warnings.warn(\n",
            "/usr/local/lib/python3.11/dist-packages/sklearn/model_selection/_validation.py:1380: RuntimeWarning: Number of classes in training fold (59) does not match total number of classes (64). Results may not be appropriate for your use case. To fix this, use a cross-validation technique resulting in properly stratified folds\n",
            "  warnings.warn(\n",
            "/usr/local/lib/python3.11/dist-packages/sklearn/model_selection/_split.py:805: UserWarning: The least populated class in y has only 1 members, which is less than n_splits=5.\n",
            "  warnings.warn(\n",
            "/usr/local/lib/python3.11/dist-packages/sklearn/model_selection/_validation.py:1380: RuntimeWarning: Number of classes in training fold (62) does not match total number of classes (64). Results may not be appropriate for your use case. To fix this, use a cross-validation technique resulting in properly stratified folds\n",
            "  warnings.warn(\n",
            "/usr/local/lib/python3.11/dist-packages/sklearn/model_selection/_validation.py:1380: RuntimeWarning: Number of classes in training fold (61) does not match total number of classes (64). Results may not be appropriate for your use case. To fix this, use a cross-validation technique resulting in properly stratified folds\n",
            "  warnings.warn(\n",
            "/usr/local/lib/python3.11/dist-packages/sklearn/model_selection/_validation.py:1380: RuntimeWarning: Number of classes in training fold (61) does not match total number of classes (64). Results may not be appropriate for your use case. To fix this, use a cross-validation technique resulting in properly stratified folds\n",
            "  warnings.warn(\n",
            "/usr/local/lib/python3.11/dist-packages/sklearn/model_selection/_validation.py:1380: RuntimeWarning: Number of classes in training fold (61) does not match total number of classes (64). Results may not be appropriate for your use case. To fix this, use a cross-validation technique resulting in properly stratified folds\n",
            "  warnings.warn(\n",
            "/usr/local/lib/python3.11/dist-packages/sklearn/model_selection/_validation.py:1380: RuntimeWarning: Number of classes in training fold (59) does not match total number of classes (64). Results may not be appropriate for your use case. To fix this, use a cross-validation technique resulting in properly stratified folds\n",
            "  warnings.warn(\n"
          ]
        },
        {
          "output_type": "stream",
          "name": "stdout",
          "text": [
            "Feature group Speed+Quality+Price has no valid features in the dataset.\n",
            "\n",
            "=== Accuracy Results ===\n"
          ]
        },
        {
          "output_type": "display_data",
          "data": {
            "text/plain": [
              "  Feature Group          Model  Accuracy (%)\n",
              "6  All Features       AdaBoost           7.5\n",
              "8  All Features       Stacking           5.0\n",
              "0  All Features            SVC           2.5\n",
              "1  All Features             DT           0.0\n",
              "2  All Features             RF           0.0\n",
              "3  All Features             LR           0.0\n",
              "4  All Features  Voting (hard)           0.0\n",
              "5  All Features  Voting (soft)           0.0\n",
              "7  All Features  GradientBoost           0.0"
            ],
            "text/html": [
              "\n",
              "  <div id=\"df-e99111a9-5079-478c-a184-09683a4e6431\" class=\"colab-df-container\">\n",
              "    <div>\n",
              "<style scoped>\n",
              "    .dataframe tbody tr th:only-of-type {\n",
              "        vertical-align: middle;\n",
              "    }\n",
              "\n",
              "    .dataframe tbody tr th {\n",
              "        vertical-align: top;\n",
              "    }\n",
              "\n",
              "    .dataframe thead th {\n",
              "        text-align: right;\n",
              "    }\n",
              "</style>\n",
              "<table border=\"1\" class=\"dataframe\">\n",
              "  <thead>\n",
              "    <tr style=\"text-align: right;\">\n",
              "      <th></th>\n",
              "      <th>Feature Group</th>\n",
              "      <th>Model</th>\n",
              "      <th>Accuracy (%)</th>\n",
              "    </tr>\n",
              "  </thead>\n",
              "  <tbody>\n",
              "    <tr>\n",
              "      <th>6</th>\n",
              "      <td>All Features</td>\n",
              "      <td>AdaBoost</td>\n",
              "      <td>7.5</td>\n",
              "    </tr>\n",
              "    <tr>\n",
              "      <th>8</th>\n",
              "      <td>All Features</td>\n",
              "      <td>Stacking</td>\n",
              "      <td>5.0</td>\n",
              "    </tr>\n",
              "    <tr>\n",
              "      <th>0</th>\n",
              "      <td>All Features</td>\n",
              "      <td>SVC</td>\n",
              "      <td>2.5</td>\n",
              "    </tr>\n",
              "    <tr>\n",
              "      <th>1</th>\n",
              "      <td>All Features</td>\n",
              "      <td>DT</td>\n",
              "      <td>0.0</td>\n",
              "    </tr>\n",
              "    <tr>\n",
              "      <th>2</th>\n",
              "      <td>All Features</td>\n",
              "      <td>RF</td>\n",
              "      <td>0.0</td>\n",
              "    </tr>\n",
              "    <tr>\n",
              "      <th>3</th>\n",
              "      <td>All Features</td>\n",
              "      <td>LR</td>\n",
              "      <td>0.0</td>\n",
              "    </tr>\n",
              "    <tr>\n",
              "      <th>4</th>\n",
              "      <td>All Features</td>\n",
              "      <td>Voting (hard)</td>\n",
              "      <td>0.0</td>\n",
              "    </tr>\n",
              "    <tr>\n",
              "      <th>5</th>\n",
              "      <td>All Features</td>\n",
              "      <td>Voting (soft)</td>\n",
              "      <td>0.0</td>\n",
              "    </tr>\n",
              "    <tr>\n",
              "      <th>7</th>\n",
              "      <td>All Features</td>\n",
              "      <td>GradientBoost</td>\n",
              "      <td>0.0</td>\n",
              "    </tr>\n",
              "  </tbody>\n",
              "</table>\n",
              "</div>\n",
              "    <div class=\"colab-df-buttons\">\n",
              "\n",
              "  <div class=\"colab-df-container\">\n",
              "    <button class=\"colab-df-convert\" onclick=\"convertToInteractive('df-e99111a9-5079-478c-a184-09683a4e6431')\"\n",
              "            title=\"Convert this dataframe to an interactive table.\"\n",
              "            style=\"display:none;\">\n",
              "\n",
              "  <svg xmlns=\"http://www.w3.org/2000/svg\" height=\"24px\" viewBox=\"0 -960 960 960\">\n",
              "    <path d=\"M120-120v-720h720v720H120Zm60-500h600v-160H180v160Zm220 220h160v-160H400v160Zm0 220h160v-160H400v160ZM180-400h160v-160H180v160Zm440 0h160v-160H620v160ZM180-180h160v-160H180v160Zm440 0h160v-160H620v160Z\"/>\n",
              "  </svg>\n",
              "    </button>\n",
              "\n",
              "  <style>\n",
              "    .colab-df-container {\n",
              "      display:flex;\n",
              "      gap: 12px;\n",
              "    }\n",
              "\n",
              "    .colab-df-convert {\n",
              "      background-color: #E8F0FE;\n",
              "      border: none;\n",
              "      border-radius: 50%;\n",
              "      cursor: pointer;\n",
              "      display: none;\n",
              "      fill: #1967D2;\n",
              "      height: 32px;\n",
              "      padding: 0 0 0 0;\n",
              "      width: 32px;\n",
              "    }\n",
              "\n",
              "    .colab-df-convert:hover {\n",
              "      background-color: #E2EBFA;\n",
              "      box-shadow: 0px 1px 2px rgba(60, 64, 67, 0.3), 0px 1px 3px 1px rgba(60, 64, 67, 0.15);\n",
              "      fill: #174EA6;\n",
              "    }\n",
              "\n",
              "    .colab-df-buttons div {\n",
              "      margin-bottom: 4px;\n",
              "    }\n",
              "\n",
              "    [theme=dark] .colab-df-convert {\n",
              "      background-color: #3B4455;\n",
              "      fill: #D2E3FC;\n",
              "    }\n",
              "\n",
              "    [theme=dark] .colab-df-convert:hover {\n",
              "      background-color: #434B5C;\n",
              "      box-shadow: 0px 1px 3px 1px rgba(0, 0, 0, 0.15);\n",
              "      filter: drop-shadow(0px 1px 2px rgba(0, 0, 0, 0.3));\n",
              "      fill: #FFFFFF;\n",
              "    }\n",
              "  </style>\n",
              "\n",
              "    <script>\n",
              "      const buttonEl =\n",
              "        document.querySelector('#df-e99111a9-5079-478c-a184-09683a4e6431 button.colab-df-convert');\n",
              "      buttonEl.style.display =\n",
              "        google.colab.kernel.accessAllowed ? 'block' : 'none';\n",
              "\n",
              "      async function convertToInteractive(key) {\n",
              "        const element = document.querySelector('#df-e99111a9-5079-478c-a184-09683a4e6431');\n",
              "        const dataTable =\n",
              "          await google.colab.kernel.invokeFunction('convertToInteractive',\n",
              "                                                    [key], {});\n",
              "        if (!dataTable) return;\n",
              "\n",
              "        const docLinkHtml = 'Like what you see? Visit the ' +\n",
              "          '<a target=\"_blank\" href=https://colab.research.google.com/notebooks/data_table.ipynb>data table notebook</a>'\n",
              "          + ' to learn more about interactive tables.';\n",
              "        element.innerHTML = '';\n",
              "        dataTable['output_type'] = 'display_data';\n",
              "        await google.colab.output.renderOutput(dataTable, element);\n",
              "        const docLink = document.createElement('div');\n",
              "        docLink.innerHTML = docLinkHtml;\n",
              "        element.appendChild(docLink);\n",
              "      }\n",
              "    </script>\n",
              "  </div>\n",
              "\n",
              "\n",
              "    <div id=\"df-10813f59-35f8-4157-8a7d-1fe22009f810\">\n",
              "      <button class=\"colab-df-quickchart\" onclick=\"quickchart('df-10813f59-35f8-4157-8a7d-1fe22009f810')\"\n",
              "                title=\"Suggest charts\"\n",
              "                style=\"display:none;\">\n",
              "\n",
              "<svg xmlns=\"http://www.w3.org/2000/svg\" height=\"24px\"viewBox=\"0 0 24 24\"\n",
              "     width=\"24px\">\n",
              "    <g>\n",
              "        <path d=\"M19 3H5c-1.1 0-2 .9-2 2v14c0 1.1.9 2 2 2h14c1.1 0 2-.9 2-2V5c0-1.1-.9-2-2-2zM9 17H7v-7h2v7zm4 0h-2V7h2v10zm4 0h-2v-4h2v4z\"/>\n",
              "    </g>\n",
              "</svg>\n",
              "      </button>\n",
              "\n",
              "<style>\n",
              "  .colab-df-quickchart {\n",
              "      --bg-color: #E8F0FE;\n",
              "      --fill-color: #1967D2;\n",
              "      --hover-bg-color: #E2EBFA;\n",
              "      --hover-fill-color: #174EA6;\n",
              "      --disabled-fill-color: #AAA;\n",
              "      --disabled-bg-color: #DDD;\n",
              "  }\n",
              "\n",
              "  [theme=dark] .colab-df-quickchart {\n",
              "      --bg-color: #3B4455;\n",
              "      --fill-color: #D2E3FC;\n",
              "      --hover-bg-color: #434B5C;\n",
              "      --hover-fill-color: #FFFFFF;\n",
              "      --disabled-bg-color: #3B4455;\n",
              "      --disabled-fill-color: #666;\n",
              "  }\n",
              "\n",
              "  .colab-df-quickchart {\n",
              "    background-color: var(--bg-color);\n",
              "    border: none;\n",
              "    border-radius: 50%;\n",
              "    cursor: pointer;\n",
              "    display: none;\n",
              "    fill: var(--fill-color);\n",
              "    height: 32px;\n",
              "    padding: 0;\n",
              "    width: 32px;\n",
              "  }\n",
              "\n",
              "  .colab-df-quickchart:hover {\n",
              "    background-color: var(--hover-bg-color);\n",
              "    box-shadow: 0 1px 2px rgba(60, 64, 67, 0.3), 0 1px 3px 1px rgba(60, 64, 67, 0.15);\n",
              "    fill: var(--button-hover-fill-color);\n",
              "  }\n",
              "\n",
              "  .colab-df-quickchart-complete:disabled,\n",
              "  .colab-df-quickchart-complete:disabled:hover {\n",
              "    background-color: var(--disabled-bg-color);\n",
              "    fill: var(--disabled-fill-color);\n",
              "    box-shadow: none;\n",
              "  }\n",
              "\n",
              "  .colab-df-spinner {\n",
              "    border: 2px solid var(--fill-color);\n",
              "    border-color: transparent;\n",
              "    border-bottom-color: var(--fill-color);\n",
              "    animation:\n",
              "      spin 1s steps(1) infinite;\n",
              "  }\n",
              "\n",
              "  @keyframes spin {\n",
              "    0% {\n",
              "      border-color: transparent;\n",
              "      border-bottom-color: var(--fill-color);\n",
              "      border-left-color: var(--fill-color);\n",
              "    }\n",
              "    20% {\n",
              "      border-color: transparent;\n",
              "      border-left-color: var(--fill-color);\n",
              "      border-top-color: var(--fill-color);\n",
              "    }\n",
              "    30% {\n",
              "      border-color: transparent;\n",
              "      border-left-color: var(--fill-color);\n",
              "      border-top-color: var(--fill-color);\n",
              "      border-right-color: var(--fill-color);\n",
              "    }\n",
              "    40% {\n",
              "      border-color: transparent;\n",
              "      border-right-color: var(--fill-color);\n",
              "      border-top-color: var(--fill-color);\n",
              "    }\n",
              "    60% {\n",
              "      border-color: transparent;\n",
              "      border-right-color: var(--fill-color);\n",
              "    }\n",
              "    80% {\n",
              "      border-color: transparent;\n",
              "      border-right-color: var(--fill-color);\n",
              "      border-bottom-color: var(--fill-color);\n",
              "    }\n",
              "    90% {\n",
              "      border-color: transparent;\n",
              "      border-bottom-color: var(--fill-color);\n",
              "    }\n",
              "  }\n",
              "</style>\n",
              "\n",
              "      <script>\n",
              "        async function quickchart(key) {\n",
              "          const quickchartButtonEl =\n",
              "            document.querySelector('#' + key + ' button');\n",
              "          quickchartButtonEl.disabled = true;  // To prevent multiple clicks.\n",
              "          quickchartButtonEl.classList.add('colab-df-spinner');\n",
              "          try {\n",
              "            const charts = await google.colab.kernel.invokeFunction(\n",
              "                'suggestCharts', [key], {});\n",
              "          } catch (error) {\n",
              "            console.error('Error during call to suggestCharts:', error);\n",
              "          }\n",
              "          quickchartButtonEl.classList.remove('colab-df-spinner');\n",
              "          quickchartButtonEl.classList.add('colab-df-quickchart-complete');\n",
              "        }\n",
              "        (() => {\n",
              "          let quickchartButtonEl =\n",
              "            document.querySelector('#df-10813f59-35f8-4157-8a7d-1fe22009f810 button');\n",
              "          quickchartButtonEl.style.display =\n",
              "            google.colab.kernel.accessAllowed ? 'block' : 'none';\n",
              "        })();\n",
              "      </script>\n",
              "    </div>\n",
              "\n",
              "    </div>\n",
              "  </div>\n"
            ],
            "application/vnd.google.colaboratory.intrinsic+json": {
              "type": "dataframe",
              "summary": "{\n  \"name\": \"plt\",\n  \"rows\": 9,\n  \"fields\": [\n    {\n      \"column\": \"Feature Group\",\n      \"properties\": {\n        \"dtype\": \"category\",\n        \"num_unique_values\": 1,\n        \"samples\": [\n          \"All Features\"\n        ],\n        \"semantic_type\": \"\",\n        \"description\": \"\"\n      }\n    },\n    {\n      \"column\": \"Model\",\n      \"properties\": {\n        \"dtype\": \"string\",\n        \"num_unique_values\": 9,\n        \"samples\": [\n          \"Voting (soft)\"\n        ],\n        \"semantic_type\": \"\",\n        \"description\": \"\"\n      }\n    },\n    {\n      \"column\": \"Accuracy (%)\",\n      \"properties\": {\n        \"dtype\": \"number\",\n        \"std\": 2.795084971874737,\n        \"min\": 0.0,\n        \"max\": 7.5,\n        \"num_unique_values\": 4,\n        \"samples\": [\n          5.0\n        ],\n        \"semantic_type\": \"\",\n        \"description\": \"\"\n      }\n    }\n  ]\n}"
            }
          },
          "metadata": {}
        },
        {
          "output_type": "display_data",
          "data": {
            "text/plain": [
              "<Figure size 1400x600 with 1 Axes>"
            ],
            "image/png": "[encoded data removed]"
          },
          "metadata": {}
        }
      ]
    },
    {
      "cell_type": "code",
      "source": [
        "best_row = results_df.loc[results_df['Accuracy (%)'].idxmax()]\n",
        "best_model_name = best_row['Model']\n",
        "best_feature_group = best_row['Feature Group']\n",
        "best_accuracy = best_row['Accuracy (%)']\n",
        "\n",
        "print(f\"Best model: {best_model_name}\")\n",
        "print(f\"Feature set: {best_feature_group}\")\n",
        "print(f\"Test‑set accuracy: {best_accuracy:.2f}%\")\n"
      ],
      "metadata": {
        "colab": {
          "base_uri": "https://localhost:8080/"
        },
        "id": "z7GmL87JrEfT",
        "outputId": "68f99e27-da3b-429f-d29b-758f09a1ebed"
      },
      "execution_count": 15,
      "outputs": [
        {
          "output_type": "stream",
          "name": "stdout",
          "text": [
            "Best model: AdaBoost\n",
            "Feature set: All Features\n",
            "Test‑set accuracy: 7.50%\n"
          ]
        }
      ]
    },
    {
      "cell_type": "code",
      "source": [
        "df['speed_norm'] = (df['Speed (tokens/sec)'] - df['Speed (tokens/sec)'].min()) / \\\n",
        "                   (df['Speed (tokens/sec)'].max() - df['Speed (tokens/sec)'].min())\n",
        "\n",
        "df['latency_norm'] = 1 - ((df['Latency (sec)'] - df['Latency (sec)'].min()) / \\\n",
        "                         (df['Latency (sec)'].max() - df['Latency (sec)'].min()))\n",
        "\n",
        "w_speed, w_latency = 0.6, 0.4\n",
        "\n",
        "df['composite_score'] = w_speed * df['speed_norm'] + w_latency * df['latency_norm']\n",
        "\n",
        "best = df.loc[df['composite_score'].idxmax()]\n",
        "\n",
        "print(\"Best LLM by Speed/Latency composite:\")\n",
        "print(f\"  Model: {best['Model']}\")\n",
        "print(f\"  Composite Score: {best['composite_score']:.3f}\")\n",
        "print(f\"    Speed:   {best['Speed (tokens/sec)']} (norm={best['speed_norm']:.3f})\")\n",
        "print(f\"    Latency: {best['Latency (sec)']} (norm={best['latency_norm']:.3f})\")\n"
      ],
      "metadata": {
        "colab": {
          "base_uri": "https://localhost:8080/"
        },
        "id": "Cduqk9V5rtIN",
        "outputId": "a5b9d45d-cef9-4941-afac-0e3bc8785732"
      },
      "execution_count": 16,
      "outputs": [
        {
          "output_type": "stream",
          "name": "stdout",
          "text": [
            "Best LLM by Speed/Latency composite:\n",
            "  Model: Gemini-6\n",
            "  Composite Score: 0.942\n",
            "    Speed:   292 (norm=0.993)\n",
            "    Latency: 3.17 (norm=0.866)\n"
          ]
        }
      ]
    }
  ]
}